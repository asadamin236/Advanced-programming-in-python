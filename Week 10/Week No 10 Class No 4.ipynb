{
 "cells": [
  {
   "cell_type": "code",
   "execution_count": 2,
   "id": "da052afb",
   "metadata": {},
   "outputs": [],
   "source": [
    "#First import liberaries.\n",
    "import pandas as pd\n",
    "import numpy as np\n",
    "import seaborn as sns\n",
    "import matplotlib.pyplot as plt"
   ]
  },
  {
   "cell_type": "code",
   "execution_count": 21,
   "id": "a0aea549",
   "metadata": {
    "scrolled": false
   },
   "outputs": [
    {
     "data": {
      "text/html": [
       "<div>\n",
       "<style scoped>\n",
       "    .dataframe tbody tr th:only-of-type {\n",
       "        vertical-align: middle;\n",
       "    }\n",
       "\n",
       "    .dataframe tbody tr th {\n",
       "        vertical-align: top;\n",
       "    }\n",
       "\n",
       "    .dataframe thead th {\n",
       "        text-align: right;\n",
       "    }\n",
       "</style>\n",
       "<table border=\"1\" class=\"dataframe\">\n",
       "  <thead>\n",
       "    <tr style=\"text-align: right;\">\n",
       "      <th></th>\n",
       "      <th>App</th>\n",
       "      <th>Category</th>\n",
       "      <th>Rating</th>\n",
       "      <th>Reviews</th>\n",
       "      <th>Size</th>\n",
       "      <th>Installs</th>\n",
       "      <th>Type</th>\n",
       "      <th>Price</th>\n",
       "      <th>Content Rating</th>\n",
       "      <th>Genres</th>\n",
       "      <th>Last Updated</th>\n",
       "      <th>Current Ver</th>\n",
       "      <th>Android Ver</th>\n",
       "    </tr>\n",
       "  </thead>\n",
       "  <tbody>\n",
       "    <tr>\n",
       "      <th>0</th>\n",
       "      <td>Photo Editor &amp; Candy Camera &amp; Grid &amp; ScrapBook</td>\n",
       "      <td>ART_AND_DESIGN</td>\n",
       "      <td>4.1</td>\n",
       "      <td>159</td>\n",
       "      <td>19M</td>\n",
       "      <td>10,000+</td>\n",
       "      <td>Free</td>\n",
       "      <td>0</td>\n",
       "      <td>Everyone</td>\n",
       "      <td>Art &amp; Design</td>\n",
       "      <td>January 7, 2018</td>\n",
       "      <td>1.0.0</td>\n",
       "      <td>4.0.3 and up</td>\n",
       "    </tr>\n",
       "    <tr>\n",
       "      <th>1</th>\n",
       "      <td>Coloring book moana</td>\n",
       "      <td>ART_AND_DESIGN</td>\n",
       "      <td>3.9</td>\n",
       "      <td>967</td>\n",
       "      <td>14M</td>\n",
       "      <td>500,000+</td>\n",
       "      <td>Free</td>\n",
       "      <td>0</td>\n",
       "      <td>Everyone</td>\n",
       "      <td>Art &amp; Design;Pretend Play</td>\n",
       "      <td>January 15, 2018</td>\n",
       "      <td>2.0.0</td>\n",
       "      <td>4.0.3 and up</td>\n",
       "    </tr>\n",
       "    <tr>\n",
       "      <th>2</th>\n",
       "      <td>U Launcher Lite – FREE Live Cool Themes, Hide ...</td>\n",
       "      <td>ART_AND_DESIGN</td>\n",
       "      <td>4.7</td>\n",
       "      <td>87510</td>\n",
       "      <td>8.7M</td>\n",
       "      <td>5,000,000+</td>\n",
       "      <td>Free</td>\n",
       "      <td>0</td>\n",
       "      <td>Everyone</td>\n",
       "      <td>Art &amp; Design</td>\n",
       "      <td>August 1, 2018</td>\n",
       "      <td>1.2.4</td>\n",
       "      <td>4.0.3 and up</td>\n",
       "    </tr>\n",
       "    <tr>\n",
       "      <th>3</th>\n",
       "      <td>Sketch - Draw &amp; Paint</td>\n",
       "      <td>ART_AND_DESIGN</td>\n",
       "      <td>4.5</td>\n",
       "      <td>215644</td>\n",
       "      <td>25M</td>\n",
       "      <td>50,000,000+</td>\n",
       "      <td>Free</td>\n",
       "      <td>0</td>\n",
       "      <td>Teen</td>\n",
       "      <td>Art &amp; Design</td>\n",
       "      <td>June 8, 2018</td>\n",
       "      <td>Varies with device</td>\n",
       "      <td>4.2 and up</td>\n",
       "    </tr>\n",
       "    <tr>\n",
       "      <th>4</th>\n",
       "      <td>Pixel Draw - Number Art Coloring Book</td>\n",
       "      <td>ART_AND_DESIGN</td>\n",
       "      <td>4.3</td>\n",
       "      <td>967</td>\n",
       "      <td>2.8M</td>\n",
       "      <td>100,000+</td>\n",
       "      <td>Free</td>\n",
       "      <td>0</td>\n",
       "      <td>Everyone</td>\n",
       "      <td>Art &amp; Design;Creativity</td>\n",
       "      <td>June 20, 2018</td>\n",
       "      <td>1.1</td>\n",
       "      <td>4.4 and up</td>\n",
       "    </tr>\n",
       "    <tr>\n",
       "      <th>...</th>\n",
       "      <td>...</td>\n",
       "      <td>...</td>\n",
       "      <td>...</td>\n",
       "      <td>...</td>\n",
       "      <td>...</td>\n",
       "      <td>...</td>\n",
       "      <td>...</td>\n",
       "      <td>...</td>\n",
       "      <td>...</td>\n",
       "      <td>...</td>\n",
       "      <td>...</td>\n",
       "      <td>...</td>\n",
       "      <td>...</td>\n",
       "    </tr>\n",
       "    <tr>\n",
       "      <th>370</th>\n",
       "      <td>Telegram</td>\n",
       "      <td>COMMUNICATION</td>\n",
       "      <td>4.4</td>\n",
       "      <td>3128250</td>\n",
       "      <td>Varies with device</td>\n",
       "      <td>100,000,000+</td>\n",
       "      <td>Free</td>\n",
       "      <td>0</td>\n",
       "      <td>Mature 17+</td>\n",
       "      <td>Communication</td>\n",
       "      <td>July 27, 2018</td>\n",
       "      <td>Varies with device</td>\n",
       "      <td>Varies with device</td>\n",
       "    </tr>\n",
       "    <tr>\n",
       "      <th>371</th>\n",
       "      <td>Google Duo - High Quality Video Calls</td>\n",
       "      <td>COMMUNICATION</td>\n",
       "      <td>4.6</td>\n",
       "      <td>2083237</td>\n",
       "      <td>Varies with device</td>\n",
       "      <td>500,000,000+</td>\n",
       "      <td>Free</td>\n",
       "      <td>0</td>\n",
       "      <td>Everyone</td>\n",
       "      <td>Communication</td>\n",
       "      <td>July 31, 2018</td>\n",
       "      <td>37.1.206017801.DR37_RC14</td>\n",
       "      <td>4.4 and up</td>\n",
       "    </tr>\n",
       "    <tr>\n",
       "      <th>372</th>\n",
       "      <td>Puffin Web Browser</td>\n",
       "      <td>COMMUNICATION</td>\n",
       "      <td>4.3</td>\n",
       "      <td>541389</td>\n",
       "      <td>Varies with device</td>\n",
       "      <td>10,000,000+</td>\n",
       "      <td>Free</td>\n",
       "      <td>0</td>\n",
       "      <td>Everyone</td>\n",
       "      <td>Communication</td>\n",
       "      <td>July 9, 2018</td>\n",
       "      <td>7.5.3.20547</td>\n",
       "      <td>4.1 and up</td>\n",
       "    </tr>\n",
       "    <tr>\n",
       "      <th>373</th>\n",
       "      <td>Seznam.cz</td>\n",
       "      <td>COMMUNICATION</td>\n",
       "      <td>4.3</td>\n",
       "      <td>46702</td>\n",
       "      <td>Varies with device</td>\n",
       "      <td>1,000,000+</td>\n",
       "      <td>Free</td>\n",
       "      <td>0</td>\n",
       "      <td>Everyone</td>\n",
       "      <td>Communication</td>\n",
       "      <td>July 4, 2018</td>\n",
       "      <td>Varies with device</td>\n",
       "      <td>Varies with device</td>\n",
       "    </tr>\n",
       "    <tr>\n",
       "      <th>374</th>\n",
       "      <td>Antillean Gold Telegram (original version)</td>\n",
       "      <td>COMMUNICATION</td>\n",
       "      <td>4.4</td>\n",
       "      <td>2939</td>\n",
       "      <td>17M</td>\n",
       "      <td>100,000+</td>\n",
       "      <td>Free</td>\n",
       "      <td>0</td>\n",
       "      <td>Everyone</td>\n",
       "      <td>Communication</td>\n",
       "      <td>July 16, 2018</td>\n",
       "      <td>2.1</td>\n",
       "      <td>4.1 and up</td>\n",
       "    </tr>\n",
       "  </tbody>\n",
       "</table>\n",
       "<p>375 rows × 13 columns</p>\n",
       "</div>"
      ],
      "text/plain": [
       "                                                   App        Category  \\\n",
       "0       Photo Editor & Candy Camera & Grid & ScrapBook  ART_AND_DESIGN   \n",
       "1                                  Coloring book moana  ART_AND_DESIGN   \n",
       "2    U Launcher Lite – FREE Live Cool Themes, Hide ...  ART_AND_DESIGN   \n",
       "3                                Sketch - Draw & Paint  ART_AND_DESIGN   \n",
       "4                Pixel Draw - Number Art Coloring Book  ART_AND_DESIGN   \n",
       "..                                                 ...             ...   \n",
       "370                                           Telegram   COMMUNICATION   \n",
       "371              Google Duo - High Quality Video Calls   COMMUNICATION   \n",
       "372                                 Puffin Web Browser   COMMUNICATION   \n",
       "373                                          Seznam.cz   COMMUNICATION   \n",
       "374         Antillean Gold Telegram (original version)   COMMUNICATION   \n",
       "\n",
       "     Rating  Reviews                Size      Installs  Type Price  \\\n",
       "0       4.1      159                 19M       10,000+  Free     0   \n",
       "1       3.9      967                 14M      500,000+  Free     0   \n",
       "2       4.7    87510                8.7M    5,000,000+  Free     0   \n",
       "3       4.5   215644                 25M   50,000,000+  Free     0   \n",
       "4       4.3      967                2.8M      100,000+  Free     0   \n",
       "..      ...      ...                 ...           ...   ...   ...   \n",
       "370     4.4  3128250  Varies with device  100,000,000+  Free     0   \n",
       "371     4.6  2083237  Varies with device  500,000,000+  Free     0   \n",
       "372     4.3   541389  Varies with device   10,000,000+  Free     0   \n",
       "373     4.3    46702  Varies with device    1,000,000+  Free     0   \n",
       "374     4.4     2939                 17M      100,000+  Free     0   \n",
       "\n",
       "    Content Rating                     Genres      Last Updated  \\\n",
       "0         Everyone               Art & Design   January 7, 2018   \n",
       "1         Everyone  Art & Design;Pretend Play  January 15, 2018   \n",
       "2         Everyone               Art & Design    August 1, 2018   \n",
       "3             Teen               Art & Design      June 8, 2018   \n",
       "4         Everyone    Art & Design;Creativity     June 20, 2018   \n",
       "..             ...                        ...               ...   \n",
       "370     Mature 17+              Communication     July 27, 2018   \n",
       "371       Everyone              Communication     July 31, 2018   \n",
       "372       Everyone              Communication      July 9, 2018   \n",
       "373       Everyone              Communication      July 4, 2018   \n",
       "374       Everyone              Communication     July 16, 2018   \n",
       "\n",
       "                  Current Ver         Android Ver  \n",
       "0                       1.0.0        4.0.3 and up  \n",
       "1                       2.0.0        4.0.3 and up  \n",
       "2                       1.2.4        4.0.3 and up  \n",
       "3          Varies with device          4.2 and up  \n",
       "4                         1.1          4.4 and up  \n",
       "..                        ...                 ...  \n",
       "370        Varies with device  Varies with device  \n",
       "371  37.1.206017801.DR37_RC14          4.4 and up  \n",
       "372               7.5.3.20547          4.1 and up  \n",
       "373        Varies with device  Varies with device  \n",
       "374                       2.1          4.1 and up  \n",
       "\n",
       "[375 rows x 13 columns]"
      ]
     },
     "execution_count": 21,
     "metadata": {},
     "output_type": "execute_result"
    }
   ],
   "source": [
    "#Read data from csv file.\n",
    "Df = pd.read_csv(\"googleplaystore.csv\")\n",
    "Df.head(375)"
   ]
  },
  {
   "cell_type": "code",
   "execution_count": 4,
   "id": "6f41015b",
   "metadata": {},
   "outputs": [],
   "source": [
    "# Count() Category before data cleaning.\n",
    "aa = Df['Category'].count()"
   ]
  },
  {
   "cell_type": "code",
   "execution_count": 5,
   "id": "eab0b602",
   "metadata": {},
   "outputs": [
    {
     "data": {
      "text/plain": [
       "10841"
      ]
     },
     "execution_count": 5,
     "metadata": {},
     "output_type": "execute_result"
    }
   ],
   "source": [
    "aa"
   ]
  },
  {
   "cell_type": "code",
   "execution_count": 6,
   "id": "256d22cd",
   "metadata": {},
   "outputs": [],
   "source": [
    "#Clean the data.\n",
    "bb = Df.dropna()"
   ]
  },
  {
   "cell_type": "code",
   "execution_count": 7,
   "id": "890fc27f",
   "metadata": {},
   "outputs": [
    {
     "data": {
      "text/plain": [
       "App               0\n",
       "Category          0\n",
       "Rating            0\n",
       "Reviews           0\n",
       "Size              0\n",
       "Installs          0\n",
       "Type              0\n",
       "Price             0\n",
       "Content Rating    0\n",
       "Genres            0\n",
       "Last Updated      0\n",
       "Current Ver       0\n",
       "Android Ver       0\n",
       "dtype: int64"
      ]
     },
     "execution_count": 7,
     "metadata": {},
     "output_type": "execute_result"
    }
   ],
   "source": [
    "#Find null values and sum that values.\n",
    "bb.isnull().sum()"
   ]
  },
  {
   "cell_type": "code",
   "execution_count": 8,
   "id": "57ba7f99",
   "metadata": {},
   "outputs": [],
   "source": [
    "#Find the categories from csv file.\n",
    "cc = bb['Category']"
   ]
  },
  {
   "cell_type": "code",
   "execution_count": 9,
   "id": "f3bf3024",
   "metadata": {},
   "outputs": [
    {
     "data": {
      "text/plain": [
       "0             ART_AND_DESIGN\n",
       "1             ART_AND_DESIGN\n",
       "2             ART_AND_DESIGN\n",
       "3             ART_AND_DESIGN\n",
       "4             ART_AND_DESIGN\n",
       "                ...         \n",
       "10834                 FAMILY\n",
       "10836                 FAMILY\n",
       "10837                 FAMILY\n",
       "10839    BOOKS_AND_REFERENCE\n",
       "10840              LIFESTYLE\n",
       "Name: Category, Length: 9360, dtype: object"
      ]
     },
     "execution_count": 9,
     "metadata": {},
     "output_type": "execute_result"
    }
   ],
   "source": [
    "cc"
   ]
  },
  {
   "cell_type": "code",
   "execution_count": 10,
   "id": "fdc0b7c5",
   "metadata": {},
   "outputs": [
    {
     "data": {
      "text/plain": [
       "9360"
      ]
     },
     "execution_count": 10,
     "metadata": {},
     "output_type": "execute_result"
    }
   ],
   "source": [
    "#Count category.\n",
    "cc.count()"
   ]
  },
  {
   "cell_type": "code",
   "execution_count": 11,
   "id": "a7c85724",
   "metadata": {},
   "outputs": [
    {
     "data": {
      "text/plain": [
       "FAMILY                 1746\n",
       "GAME                   1097\n",
       "TOOLS                   733\n",
       "PRODUCTIVITY            351\n",
       "MEDICAL                 350\n",
       "COMMUNICATION           328\n",
       "FINANCE                 323\n",
       "SPORTS                  319\n",
       "PHOTOGRAPHY             317\n",
       "LIFESTYLE               314\n",
       "PERSONALIZATION         312\n",
       "BUSINESS                303\n",
       "HEALTH_AND_FITNESS      297\n",
       "SOCIAL                  259\n",
       "SHOPPING                238\n",
       "NEWS_AND_MAGAZINES      233\n",
       "TRAVEL_AND_LOCAL        226\n",
       "DATING                  195\n",
       "BOOKS_AND_REFERENCE     178\n",
       "VIDEO_PLAYERS           160\n",
       "EDUCATION               155\n",
       "ENTERTAINMENT           149\n",
       "MAPS_AND_NAVIGATION     124\n",
       "FOOD_AND_DRINK          109\n",
       "HOUSE_AND_HOME           76\n",
       "WEATHER                  75\n",
       "AUTO_AND_VEHICLES        73\n",
       "LIBRARIES_AND_DEMO       64\n",
       "ART_AND_DESIGN           61\n",
       "COMICS                   58\n",
       "PARENTING                50\n",
       "EVENTS                   45\n",
       "BEAUTY                   42\n",
       "Name: Category, dtype: int64"
      ]
     },
     "execution_count": 11,
     "metadata": {},
     "output_type": "execute_result"
    }
   ],
   "source": [
    "#Find the category values.\n",
    "AB = bb['Category'].value_counts()\n",
    "AB"
   ]
  },
  {
   "cell_type": "code",
   "execution_count": 12,
   "id": "cdac7792",
   "metadata": {},
   "outputs": [
    {
     "data": {
      "text/plain": [
       "Category             Content Rating \n",
       "ART_AND_DESIGN       Everyone            57\n",
       "                     Teen                 3\n",
       "                     Everyone 10+         1\n",
       "AUTO_AND_VEHICLES    Everyone            71\n",
       "                     Everyone 10+         1\n",
       "                     Teen                 1\n",
       "BEAUTY               Everyone            39\n",
       "                     Teen                 2\n",
       "                     Mature 17+           1\n",
       "BOOKS_AND_REFERENCE  Everyone           150\n",
       "                     Teen                20\n",
       "                     Everyone 10+         5\n",
       "                     Mature 17+           3\n",
       "BUSINESS             Everyone           299\n",
       "                     Teen                 4\n",
       "COMICS               Everyone            25\n",
       "                     Teen                22\n",
       "                     Mature 17+           7\n",
       "                     Adults only 18+      2\n",
       "                     Everyone 10+         2\n",
       "COMMUNICATION        Everyone           295\n",
       "                     Teen                24\n",
       "                     Mature 17+           9\n",
       "DATING               Mature 17+         179\n",
       "                     Everyone            10\n",
       "                     Teen                 6\n",
       "EDUCATION            Everyone           143\n",
       "                     Everyone 10+         8\n",
       "                     Mature 17+           3\n",
       "                     Teen                 1\n",
       "Name: Content Rating, dtype: int64"
      ]
     },
     "execution_count": 12,
     "metadata": {},
     "output_type": "execute_result"
    }
   ],
   "source": [
    "#Find content rating from each category.\n",
    "Dd = bb.groupby('Category')['Content Rating'].value_counts()\n",
    "Dd.head(30)"
   ]
  },
  {
   "cell_type": "code",
   "execution_count": 19,
   "id": "23fceb43",
   "metadata": {},
   "outputs": [
    {
     "data": {
      "text/html": [
       "<div>\n",
       "<style scoped>\n",
       "    .dataframe tbody tr th:only-of-type {\n",
       "        vertical-align: middle;\n",
       "    }\n",
       "\n",
       "    .dataframe tbody tr th {\n",
       "        vertical-align: top;\n",
       "    }\n",
       "\n",
       "    .dataframe thead th {\n",
       "        text-align: right;\n",
       "    }\n",
       "</style>\n",
       "<table border=\"1\" class=\"dataframe\">\n",
       "  <thead>\n",
       "    <tr style=\"text-align: right;\">\n",
       "      <th></th>\n",
       "      <th>App</th>\n",
       "    </tr>\n",
       "  </thead>\n",
       "  <tbody>\n",
       "    <tr>\n",
       "      <th>371</th>\n",
       "      <td>Google Duo - High Quality Video Calls</td>\n",
       "    </tr>\n",
       "    <tr>\n",
       "      <th>3255</th>\n",
       "      <td>SHAREit - Transfer &amp; Share</td>\n",
       "    </tr>\n",
       "    <tr>\n",
       "      <th>4005</th>\n",
       "      <td>Clean Master- Space Cleaner &amp; Antivirus</td>\n",
       "    </tr>\n",
       "    <tr>\n",
       "      <th>4039</th>\n",
       "      <td>Google Duo - High Quality Video Calls</td>\n",
       "    </tr>\n",
       "    <tr>\n",
       "      <th>4566</th>\n",
       "      <td>SHAREit - Transfer &amp; Share</td>\n",
       "    </tr>\n",
       "    <tr>\n",
       "      <th>7536</th>\n",
       "      <td>Security Master - Antivirus, VPN, AppLock, Boo...</td>\n",
       "    </tr>\n",
       "  </tbody>\n",
       "</table>\n",
       "</div>"
      ],
      "text/plain": [
       "                                                    App\n",
       "371               Google Duo - High Quality Video Calls\n",
       "3255                         SHAREit - Transfer & Share\n",
       "4005            Clean Master- Space Cleaner & Antivirus\n",
       "4039              Google Duo - High Quality Video Calls\n",
       "4566                         SHAREit - Transfer & Share\n",
       "7536  Security Master - Antivirus, VPN, AppLock, Boo..."
      ]
     },
     "execution_count": 19,
     "metadata": {},
     "output_type": "execute_result"
    }
   ],
   "source": [
    "#Best app so far used(Rating above 4 and Download maximum).\n",
    "#, app_filter['Rating'], app_filter['Installs'], app_filter['Category'], app_filter['Reviews']\n",
    "app_filter = bb.loc[(bb['Rating'] > 4.5) & (bb['Installs'] == bb['Installs'].max())]\n",
    "app_filter[['App']]\n"
   ]
  },
  {
   "cell_type": "code",
   "execution_count": 15,
   "id": "3bdab34b",
   "metadata": {},
   "outputs": [
    {
     "data": {
      "text/plain": [
       "Rating    7\n",
       "dtype: int64"
      ]
     },
     "execution_count": 15,
     "metadata": {},
     "output_type": "execute_result"
    }
   ],
   "source": [
    "#Unique Rating Installs.\n",
    "app_filter = bb.loc[(bb['Rating'] > 4) & (bb['Installs'] == bb['Installs'].max())]\n",
    "app_filter[['Rating']].nunique()"
   ]
  },
  {
   "cell_type": "code",
   "execution_count": 16,
   "id": "b29c5b10",
   "metadata": {},
   "outputs": [],
   "source": [
    "#Show Free apps in the dataset.\n",
    "DF = bb[bb['Type'] == 'Free']"
   ]
  },
  {
   "cell_type": "code",
   "execution_count": 17,
   "id": "aa1b251f",
   "metadata": {},
   "outputs": [
    {
     "data": {
      "text/plain": [
       "App               8715\n",
       "Category          8715\n",
       "Rating            8715\n",
       "Reviews           8715\n",
       "Size              8715\n",
       "Installs          8715\n",
       "Type              8715\n",
       "Price             8715\n",
       "Content Rating    8715\n",
       "Genres            8715\n",
       "Last Updated      8715\n",
       "Current Ver       8715\n",
       "Android Ver       8715\n",
       "dtype: int64"
      ]
     },
     "execution_count": 17,
     "metadata": {},
     "output_type": "execute_result"
    }
   ],
   "source": [
    "DF.count()"
   ]
  },
  {
   "cell_type": "code",
   "execution_count": 18,
   "id": "7b5f23da",
   "metadata": {},
   "outputs": [
    {
     "data": {
      "text/plain": [
       "'0'"
      ]
     },
     "execution_count": 18,
     "metadata": {},
     "output_type": "execute_result"
    }
   ],
   "source": [
    "max(bb['Price'])"
   ]
  },
  {
   "cell_type": "code",
   "execution_count": null,
   "id": "9992f723",
   "metadata": {},
   "outputs": [],
   "source": []
  }
 ],
 "metadata": {
  "kernelspec": {
   "display_name": "Python 3",
   "language": "python",
   "name": "python3"
  },
  "language_info": {
   "codemirror_mode": {
    "name": "ipython",
    "version": 3
   },
   "file_extension": ".py",
   "mimetype": "text/x-python",
   "name": "python",
   "nbconvert_exporter": "python",
   "pygments_lexer": "ipython3",
   "version": "3.8.8"
  }
 },
 "nbformat": 4,
 "nbformat_minor": 5
}
