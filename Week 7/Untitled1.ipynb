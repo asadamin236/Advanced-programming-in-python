{
 "cells": [
  {
   "cell_type": "code",
   "execution_count": 57,
   "id": "c782916b",
   "metadata": {},
   "outputs": [],
   "source": [
    "import numpy as np\n",
    "import pandas as pd\n",
    "import matplotlib.pyplot as plt\n"
   ]
  },
  {
   "cell_type": "code",
   "execution_count": 58,
   "id": "0ef651dc",
   "metadata": {},
   "outputs": [
    {
     "name": "stdout",
     "output_type": "stream",
     "text": [
      "  category items   size  price\n",
      "1        A   123  Small    244\n",
      "2        B    12  medum    544\n",
      "3        c    13  Large    666\n"
     ]
    }
   ],
   "source": [
    "data = {\n",
    "  \"category\": [\"A\",\"B\",\"c\" ],\n",
    "  \"items\": [\"123\", \"12\",\"13\"],\n",
    "  \"size\":[\"Small\",\"medum\",\"Large\"],\n",
    "  \"price\" :[244,544,666],\n",
    "    \n",
    "    \n",
    "  \n",
    "}\n",
    "\n",
    "#load data into a DataFrame object:\n",
    "df = pd.DataFrame(data, index = [\"1\", \"2\", \"3\"])\n",
    "\n",
    "print(df) "
   ]
  },
  {
   "cell_type": "code",
   "execution_count": 62,
   "id": "0b40044d",
   "metadata": {},
   "outputs": [],
   "source": [
    "t=pd.pivot_table(df,values='price',index=['category','items'],columns=['size'])"
   ]
  },
  {
   "cell_type": "code",
   "execution_count": 63,
   "id": "2cc6318c",
   "metadata": {},
   "outputs": [
    {
     "name": "stdout",
     "output_type": "stream",
     "text": [
      "size            Large  Small  medum\n",
      "category items                     \n",
      "A        123      NaN  244.0    NaN\n",
      "B        12       NaN    NaN  544.0\n",
      "c        13     666.0    NaN    NaN\n"
     ]
    }
   ],
   "source": [
    "print(t)"
   ]
  },
  {
   "cell_type": "code",
   "execution_count": 64,
   "id": "9ad736fb",
   "metadata": {},
   "outputs": [],
   "source": [
    "t=pd.pivot_table(df,values='price',index=['category','items'],columns=['size'],aggfunc=np.sum)"
   ]
  },
  {
   "cell_type": "code",
   "execution_count": 65,
   "id": "87daeb68",
   "metadata": {},
   "outputs": [
    {
     "name": "stdout",
     "output_type": "stream",
     "text": [
      "size            Large  Small  medum\n",
      "category items                     \n",
      "A        123      NaN  244.0    NaN\n",
      "B        12       NaN    NaN  544.0\n",
      "c        13     666.0    NaN    NaN\n"
     ]
    }
   ],
   "source": [
    "print(t)"
   ]
  },
  {
   "cell_type": "code",
   "execution_count": 66,
   "id": "d30b52a7",
   "metadata": {},
   "outputs": [],
   "source": [
    "t=pd.pivot_table(df,values='price',index=['category','items'],columns=['size'],aggfunc=np.var)\n"
   ]
  },
  {
   "cell_type": "code",
   "execution_count": 67,
   "id": "41bcc1b6",
   "metadata": {},
   "outputs": [
    {
     "name": "stdout",
     "output_type": "stream",
     "text": [
      "Empty DataFrame\n",
      "Columns: []\n",
      "Index: []\n"
     ]
    }
   ],
   "source": [
    "print(t)"
   ]
  },
  {
   "cell_type": "code",
   "execution_count": 68,
   "id": "c8f82a59",
   "metadata": {},
   "outputs": [
    {
     "name": "stdout",
     "output_type": "stream",
     "text": [
      "Empty DataFrame\n",
      "Columns: []\n",
      "Index: []\n"
     ]
    }
   ],
   "source": [
    "t=pd.pivot_table(df,values='price',index=['category','items'],columns=['size'],aggfunc=np.std)\n",
    "print(t)"
   ]
  },
  {
   "cell_type": "code",
   "execution_count": 69,
   "id": "e84d10c9",
   "metadata": {},
   "outputs": [],
   "source": [
    "t=pd.pivot_table(df,values='price',index=['category','items'],columns=['size'],aggfunc=np.min)"
   ]
  },
  {
   "cell_type": "code",
   "execution_count": 70,
   "id": "0d7d0a5d",
   "metadata": {},
   "outputs": [
    {
     "name": "stdout",
     "output_type": "stream",
     "text": [
      "size            Large  Small  medum\n",
      "category items                     \n",
      "A        123      NaN  244.0    NaN\n",
      "B        12       NaN    NaN  544.0\n",
      "c        13     666.0    NaN    NaN\n"
     ]
    }
   ],
   "source": [
    "print(t)"
   ]
  },
  {
   "cell_type": "code",
   "execution_count": 71,
   "id": "fea75bec",
   "metadata": {},
   "outputs": [],
   "source": [
    "t=pd.pivot_table(df,values='price',index=['category','items'])"
   ]
  },
  {
   "cell_type": "code",
   "execution_count": 56,
   "id": "9df2f569",
   "metadata": {},
   "outputs": [
    {
     "name": "stdout",
     "output_type": "stream",
     "text": [
      "                price\n",
      "category items       \n",
      "A        123      244\n",
      "B        12       544\n",
      "c        13       666\n"
     ]
    }
   ],
   "source": [
    "print(t)"
   ]
  },
  {
   "cell_type": "code",
   "execution_count": null,
   "id": "0373dfb3",
   "metadata": {},
   "outputs": [],
   "source": []
  },
  {
   "cell_type": "code",
   "execution_count": null,
   "id": "424f450f",
   "metadata": {},
   "outputs": [],
   "source": []
  }
 ],
 "metadata": {
  "kernelspec": {
   "display_name": "Python 3",
   "language": "python",
   "name": "python3"
  },
  "language_info": {
   "codemirror_mode": {
    "name": "ipython",
    "version": 3
   },
   "file_extension": ".py",
   "mimetype": "text/x-python",
   "name": "python",
   "nbconvert_exporter": "python",
   "pygments_lexer": "ipython3",
   "version": "3.8.8"
  }
 },
 "nbformat": 4,
 "nbformat_minor": 5
}
